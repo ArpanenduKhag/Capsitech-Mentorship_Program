{
  "nbformat": 4,
  "nbformat_minor": 0,
  "metadata": {
    "colab": {
      "provenance": []
    },
    "kernelspec": {
      "name": "python3",
      "display_name": "Python 3"
    },
    "language_info": {
      "name": "python"
    }
  },
  "cells": [
    {
      "cell_type": "code",
      "source": [
        "import pandas as pd\n",
        "import numpy as np\n",
        "import seaborn as sns\n",
        "import matplotlib.pyplot as plt\n",
        "from sklearn.model_selection import train_test_split, cross_val_score\n",
        "from sklearn.preprocessing import StandardScaler, LabelEncoder\n",
        "from sklearn.linear_model import Ridge, Lasso\n",
        "from sklearn.ensemble import RandomForestRegressor\n",
        "from sklearn.metrics import mean_absolute_error, mean_squared_error, r2_score\n",
        "\n"
      ],
      "metadata": {
        "id": "XT1mINsdU5n_"
      },
      "execution_count": null,
      "outputs": []
    },
    {
      "cell_type": "code",
      "source": [
        "# Load dataset\n",
        "data_path = \"car_price.csv\"\n",
        "df = pd.read_csv(data_path)\n",
        "\n",
        "# Display dataset info\n",
        "print(\"Dataset Head:\")\n",
        "print(df.head())\n",
        "print(\"\\nDataset Info:\")\n",
        "df.info()\n"
      ],
      "metadata": {
        "colab": {
          "base_uri": "https://localhost:8080/"
        },
        "id": "BpFyCPl7Vh6P",
        "outputId": "6ec2b061-8fa6-404a-f21d-6df29c18b33d"
      },
      "execution_count": null,
      "outputs": [
        {
          "output_type": "stream",
          "name": "stdout",
          "text": [
            "Dataset Head:\n",
            "   Unnamed: 0     name  year  selling_price  km_driven    fuel seller_type  \\\n",
            "0           0   Maruti  2014         450000     145500  Diesel  Individual   \n",
            "1           2  Hyundai  2010         225000     127000  Diesel  Individual   \n",
            "2           4  Hyundai  2017         440000      45000  Petrol  Individual   \n",
            "3           7   Toyota  2011         350000      90000  Diesel  Individual   \n",
            "4           8     Ford  2013         200000     169000  Diesel  Individual   \n",
            "\n",
            "  transmission        owner  seats  max_power (in bph) Mileage Unit  Mileage  \\\n",
            "0       Manual  First Owner      5               74.00         kmpl    23.40   \n",
            "1       Manual  First Owner      5               90.00         kmpl    23.00   \n",
            "2       Manual  First Owner      5               81.86         kmpl    20.14   \n",
            "3       Manual  First Owner      5               67.10         kmpl    23.59   \n",
            "4       Manual  First Owner      5               68.10         kmpl    20.00   \n",
            "\n",
            "   Engine (CC)  \n",
            "0         1248  \n",
            "1         1396  \n",
            "2         1197  \n",
            "3         1364  \n",
            "4         1399  \n",
            "\n",
            "Dataset Info:\n",
            "<class 'pandas.core.frame.DataFrame'>\n",
            "RangeIndex: 2095 entries, 0 to 2094\n",
            "Data columns (total 14 columns):\n",
            " #   Column              Non-Null Count  Dtype  \n",
            "---  ------              --------------  -----  \n",
            " 0   Unnamed: 0          2095 non-null   int64  \n",
            " 1   name                2095 non-null   object \n",
            " 2   year                2095 non-null   int64  \n",
            " 3   selling_price       2095 non-null   int64  \n",
            " 4   km_driven           2095 non-null   int64  \n",
            " 5   fuel                2095 non-null   object \n",
            " 6   seller_type         2095 non-null   object \n",
            " 7   transmission        2095 non-null   object \n",
            " 8   owner               2095 non-null   object \n",
            " 9   seats               2095 non-null   int64  \n",
            " 10  max_power (in bph)  2095 non-null   float64\n",
            " 11  Mileage Unit        2095 non-null   object \n",
            " 12  Mileage             2095 non-null   float64\n",
            " 13  Engine (CC)         2095 non-null   int64  \n",
            "dtypes: float64(2), int64(6), object(6)\n",
            "memory usage: 229.3+ KB\n"
          ]
        }
      ]
    },
    {
      "cell_type": "code",
      "source": [
        "\n",
        "# Check for missing values\n",
        "print(\"\\nMissing Values:\")\n",
        "print(df.isnull().sum())\n"
      ],
      "metadata": {
        "colab": {
          "base_uri": "https://localhost:8080/"
        },
        "id": "D6mvKXfoVoiA",
        "outputId": "50a546a6-068e-4b14-c0f2-b87e8eb2b919"
      },
      "execution_count": null,
      "outputs": [
        {
          "output_type": "stream",
          "name": "stdout",
          "text": [
            "\n",
            "Missing Values:\n",
            "Unnamed: 0            0\n",
            "name                  0\n",
            "year                  0\n",
            "selling_price         0\n",
            "km_driven             0\n",
            "fuel                  0\n",
            "seller_type           0\n",
            "transmission          0\n",
            "owner                 0\n",
            "seats                 0\n",
            "max_power (in bph)    0\n",
            "Mileage Unit          0\n",
            "Mileage               0\n",
            "Engine (CC)           0\n",
            "dtype: int64\n"
          ]
        }
      ]
    },
    {
      "cell_type": "code",
      "source": [
        "\n",
        "# Encode categorical features\n",
        "categorical_cols = df.select_dtypes(include=['object']).columns\n",
        "label_encoders = {}\n",
        "for col in categorical_cols:\n",
        "    le = LabelEncoder()\n",
        "    df[col] = le.fit_transform(df[col])\n",
        "    label_encoders[col] = le\n",
        "\n",
        "# Feature-target split\n",
        "X = df.drop(columns=['selling_price'])  # Assuming 'price' is the target column\n",
        "y = df['selling_price']\n",
        "\n",
        "# Feature selection using correlation\n",
        "corr_matrix = df.corr()\n",
        "high_corr_features = corr_matrix.index[abs(corr_matrix[\"selling_price\"]) > 0.3]\n",
        "X = df[high_corr_features].drop(columns=[\"selling_price\"])\n",
        "\n",
        "# Train-test split\n",
        "X_train, X_test, y_train, y_test = train_test_split(X, y, test_size=0.2, random_state=42)\n",
        "\n",
        "# Standardization\n",
        "scaler = StandardScaler()\n",
        "X_train = scaler.fit_transform(X_train)\n",
        "X_test = scaler.transform(X_test)\n"
      ],
      "metadata": {
        "id": "NTic449RVtX0"
      },
      "execution_count": null,
      "outputs": []
    },
    {
      "cell_type": "code",
      "source": [
        "\n",
        "# Model training with regularization\n",
        "models = {\n",
        "    \"Ridge Regression\": Ridge(alpha=1.0),\n",
        "    \"Lasso Regression\": Lasso(alpha=0.1),\n",
        "    \"Random Forest\": RandomForestRegressor(n_estimators=100, random_state=42)\n",
        "}\n",
        "\n",
        "results = []\n",
        "for name, model in models.items():\n",
        "    model.fit(X_train, y_train)\n",
        "    y_pred = model.predict(X_test)\n",
        "    mae = mean_absolute_error(y_test, y_pred)\n",
        "    mse = mean_squared_error(y_test, y_pred)\n",
        "    rmse = np.sqrt(mse)\n",
        "    r2 = r2_score(y_test, y_pred)\n",
        "\n",
        "    results.append({\"Model\": name, \"MAE\": mae, \"MSE\": mse, \"RMSE\": rmse, \"R2 Score\": r2})\n",
        "\n",
        "    print(f\"\\n{name} Performance:\")\n",
        "    print(\"MAE:\", mae)\n",
        "    print(\"MSE:\", mse)\n",
        "    print(\"RMSE:\", rmse)\n",
        "    print(\"R2 Score:\", r2)\n",
        "\n",
        "# Convert results into a DataFrame for easy comparison\n",
        "results_df = pd.DataFrame(results)\n",
        "print(\"\\nModel Performance Comparison:\")\n",
        "print(results_df)\n",
        "\n",
        "# Insights:\n",
        "# - Ridge and Lasso Regression add regularization to prevent overfitting.\n",
        "# - Lasso also performs feature selection by reducing some coefficients to zero.\n",
        "# - Random Forest may provide better predictions by capturing non-linear relationships.\n"
      ],
      "metadata": {
        "id": "aAkBtxUhVxNh",
        "outputId": "1306dfcd-c50c-43c0-a651-ce0fd498ef5b",
        "colab": {
          "base_uri": "https://localhost:8080/"
        }
      },
      "execution_count": null,
      "outputs": [
        {
          "output_type": "stream",
          "name": "stdout",
          "text": [
            "\n",
            "Ridge Regression Performance:\n",
            "MAE: 87461.92683799348\n",
            "MSE: 13211697124.78236\n",
            "RMSE: 114942.146859985\n",
            "R2 Score: 0.7205055556597223\n",
            "\n",
            "Lasso Regression Performance:\n",
            "MAE: 87466.53627305046\n",
            "MSE: 13214410049.376007\n",
            "RMSE: 114953.94751541161\n",
            "R2 Score: 0.7204481635363125\n",
            "\n",
            "Random Forest Performance:\n",
            "MAE: 53415.79585736254\n",
            "MSE: 6430123187.492591\n",
            "RMSE: 80188.04890688257\n",
            "R2 Score: 0.8639702613257279\n",
            "\n",
            "Model Performance Comparison:\n",
            "              Model           MAE           MSE           RMSE  R2 Score\n",
            "0  Ridge Regression  87461.926838  1.321170e+10  114942.146860  0.720506\n",
            "1  Lasso Regression  87466.536273  1.321441e+10  114953.947515  0.720448\n",
            "2     Random Forest  53415.795857  6.430123e+09   80188.048907  0.863970\n"
          ]
        }
      ]
    }
  ]
}