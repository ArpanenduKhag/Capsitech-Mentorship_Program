{
  "cells": [
    {
      "cell_type": "code",
      "execution_count": 20,
      "metadata": {
        "id": "3w1FFmSFBLul"
      },
      "outputs": [],
      "source": [
        "import numpy as np\n",
        "import random\n",
        "from tqdm import tqdm\n",
        "import pickle\n"
      ]
    },
    {
      "cell_type": "code",
      "execution_count": null,
      "metadata": {
        "id": "T1utIwlJBal3"
      },
      "outputs": [],
      "source": [
        "class TicTacToe:\n",
        "    def __init__(self):\n",
        "        self.reset()\n",
        "\n",
        "    def reset(self):\n",
        "        self.board = np.zeros((3, 3), dtype=int)\n",
        "        self.available_positions = [(i, j) for i in range(3) for j in range(3)]\n",
        "        self.used_numbers = []\n",
        "        return self.board\n",
        "\n",
        "    def get_available_numbers(self, player):\n",
        "        full = [1, 3, 5, 7, 9] if player == 1 else [2, 4, 6, 8]\n",
        "        return [n for n in full if n not in self.used_numbers]\n",
        "\n",
        "    def check_win(self, player):\n",
        "        player_numbers = [1, 3, 5, 7, 9] if player == 1 else [2, 4, 6, 8]\n",
        "        filtered_board = np.where(np.isin(self.board, player_numbers), self.board, 0)\n",
        "\n",
        "        lines = [\n",
        "            filtered_board[0, :], filtered_board[1, :], filtered_board[2, :],\n",
        "            filtered_board[:, 0], filtered_board[:, 1], filtered_board[:, 2],\n",
        "            filtered_board.diagonal(), np.fliplr(filtered_board).diagonal()\n",
        "        ]\n",
        "\n",
        "        for line in lines:\n",
        "            if np.sum(line) == 15 and np.count_nonzero(line) == 3:\n",
        "                return True\n",
        "        return False\n",
        "\n",
        "    def step(self, pos, num):\n",
        "        self.board[pos] = num\n",
        "        self.used_numbers.append(num)\n",
        "        self.available_positions.remove(pos)\n",
        "\n",
        "    def get_state(self):\n",
        "        return tuple(self.board.flatten())\n"
      ]
    },
    {
      "cell_type": "code",
      "execution_count": null,
      "metadata": {
        "id": "PkaUIHlQBe_9"
      },
      "outputs": [],
      "source": [
        "class QLearningAgent:\n",
        "    def __init__(self, alpha=0.3, gamma=0.9, epsilon=0.2):\n",
        "        self.q_values = dict()\n",
        "        self.alpha = alpha\n",
        "        self.gamma = gamma\n",
        "        self.epsilon = epsilon\n",
        "\n",
        "    def get_q(self, state, action):\n",
        "        return self.q_values.get((state, action), 0.0)\n",
        "\n",
        "    def choose_action(self, env, player):\n",
        "        state = env.get_state()\n",
        "        moves = []\n",
        "        for pos in env.available_positions:\n",
        "            for num in env.get_available_numbers(player):\n",
        "                moves.append((pos, num))\n",
        "\n",
        "        if not moves:\n",
        "            return None\n",
        "\n",
        "        if random.random() < self.epsilon:\n",
        "            return random.choice(moves)\n",
        "\n",
        "        qs = [self.get_q(state, move) for move in moves]\n",
        "        return moves[np.argmax(qs)]\n",
        "\n",
        "    def learn(self, state, action, reward, next_state):\n",
        "        old_q = self.q_values.get((state, action), 0.0)\n",
        "        future_qs = [\n",
        "            self.get_q(next_state, a)\n",
        "            for a in self.q_values\n",
        "            if a[0] == next_state\n",
        "        ]\n",
        "        max_future_q = max(future_qs, default=0)\n",
        "        new_q = old_q + self.alpha * (reward + self.gamma * max_future_q - old_q)\n",
        "        self.q_values[(state, action)] = new_q\n"
      ]
    },
    {
      "cell_type": "code",
      "execution_count": null,
      "metadata": {
        "colab": {
          "background_save": true,
          "base_uri": "https://localhost:8080/"
        },
        "id": "1IuSLGwcBgm8",
        "outputId": "f21d1d80-07ff-4bb5-827f-73cdd2369b36"
      },
      "outputs": [
        {
          "name": "stderr",
          "output_type": "stream",
          "text": [
            "100%|██████████| 10000/10000 [02:32<00:00, 65.38it/s]\n"
          ]
        }
      ],
      "source": [
        "agent = QLearningAgent()\n",
        "\n",
        "for episode in tqdm(range(10000)):\n",
        "    env = TicTacToe()\n",
        "    state = env.get_state()\n",
        "    player = 1\n",
        "\n",
        "    while True:\n",
        "        action = agent.choose_action(env, player)\n",
        "        if action is None:\n",
        "            break\n",
        "        pos, num = action\n",
        "        env.step(pos, num)\n",
        "        win = env.check_win(player)\n",
        "        draw = len(env.available_positions) == 0\n",
        "        next_state = env.get_state()\n",
        "\n",
        "        if win:\n",
        "            reward = 1 if player == 1 else -1\n",
        "            agent.learn(state, action, reward, next_state)\n",
        "            break\n",
        "        elif draw:\n",
        "            reward = 0\n",
        "            agent.learn(state, action, reward, next_state)\n",
        "            break\n",
        "        else:\n",
        "            reward = 0\n",
        "            agent.learn(state, action, reward, next_state)\n",
        "\n",
        "        state = next_state\n",
        "        player = 2 if player == 1 else 1\n"
      ]
    },
    {
      "cell_type": "code",
      "execution_count": 21,
      "metadata": {
        "id": "eP7LOjppBiKe"
      },
      "outputs": [],
      "source": [
        "with open(\"q_agent.pkl\", \"wb\") as f:\n",
        "    pickle.dump(agent.q_values, f)\n"
      ]
    },
    {
      "cell_type": "code",
      "execution_count": 22,
      "metadata": {
        "colab": {
          "base_uri": "https://localhost:8080/",
          "height": 244
        },
        "id": "g9WxN2KyBkHO",
        "outputId": "7a4b72af-8c99-4bc0-b14d-1491ca87a2a2"
      },
      "outputs": [
        {
          "output_type": "execute_result",
          "data": {
            "text/plain": [
              "'def play_against_agent(agent):\\n    env = TicTacToe()\\n    player = 2  # You start\\n    print(\"🎮 Welcome to Numerical Tic Tac Toe!\")\\n    print(\"You are Player 2 (Even Numbers: 2, 4, 6, 8)\")\\n    print(\"Agent is Player 1 (Odd Numbers: 1, 3, 5, 7, 9)\")\\n\\n    while True:\\n        print(\"\\nCurrent Board:\\n\", env.board)\\n\\n        if player == 1:\\n            action = agent.choose_action(env, 1)\\n            if action is None:\\n                print(\"No valid moves left for Agent.\")\\n                break\\n            pos, num = action\\n            env.step(pos, num)\\n            print(f\"Agent (Player 1) played {num} at {pos}\")\\n        else:\\n            print(f\"\\nYour Available Numbers: {env.get_available_numbers(2)}\")\\n            print(f\"Available Positions: {env.available_positions}\")\\n            try:\\n                num = int(input(\"Enter an even number to play: \"))\\n                if num not in env.get_available_numbers(2):\\n                    print(\"❌ Invalid number. Try again.\")\\n                    continue\\n\\n                pos_input = input(\"Enter position (row and col e.g., 0 1): \")\\n                i, j = map(int, pos_input.strip().split())\\n                pos = (i, j)\\n\\n                if pos not in env.available_positions:\\n                    print(\"❌ Invalid position. Try again.\")\\n                    continue\\n\\n                env.step(pos, num)\\n\\n            except Exception:\\n                print(\"❌ Invalid input. Please enter valid number and position.\")\\n                continue\\n\\n        print(\"\\nBoard After Move:\\n\", env.board)\\n        win = env.check_win(player)\\n        draw = len(env.available_positions) == 0\\n\\n        if win:\\n            print(f\"🎉 {\\'Agent\\' if player == 1 else \\'You\\'} (Player {player}) win!\")\\n            break\\n        if draw:\\n            print(\"🤝 It\\'s a draw!\")\\n            break\\n\\n        player = 2 if player == 1 else 1\\n\\n# To play, uncomment below:\\nplay_against_agent(agent)'"
            ],
            "application/vnd.google.colaboratory.intrinsic+json": {
              "type": "string"
            }
          },
          "metadata": {},
          "execution_count": 22
        }
      ],
      "source": [
        "#Check Manually\n",
        "'''def play_against_agent(agent):\n",
        "    env = TicTacToe()\n",
        "    player = 2  # You start\n",
        "    print(\"🎮 Welcome to Numerical Tic Tac Toe!\")\n",
        "    print(\"You are Player 2 (Even Numbers: 2, 4, 6, 8)\")\n",
        "    print(\"Agent is Player 1 (Odd Numbers: 1, 3, 5, 7, 9)\")\n",
        "\n",
        "    while True:\n",
        "        print(\"\\nCurrent Board:\\n\", env.board)\n",
        "\n",
        "        if player == 1:\n",
        "            action = agent.choose_action(env, 1)\n",
        "            if action is None:\n",
        "                print(\"No valid moves left for Agent.\")\n",
        "                break\n",
        "            pos, num = action\n",
        "            env.step(pos, num)\n",
        "            print(f\"Agent (Player 1) played {num} at {pos}\")\n",
        "        else:\n",
        "            print(f\"\\nYour Available Numbers: {env.get_available_numbers(2)}\")\n",
        "            print(f\"Available Positions: {env.available_positions}\")\n",
        "            try:\n",
        "                num = int(input(\"Enter an even number to play: \"))\n",
        "                if num not in env.get_available_numbers(2):\n",
        "                    print(\"❌ Invalid number. Try again.\")\n",
        "                    continue\n",
        "\n",
        "                pos_input = input(\"Enter position (row and col e.g., 0 1): \")\n",
        "                i, j = map(int, pos_input.strip().split())\n",
        "                pos = (i, j)\n",
        "\n",
        "                if pos not in env.available_positions:\n",
        "                    print(\"❌ Invalid position. Try again.\")\n",
        "                    continue\n",
        "\n",
        "                env.step(pos, num)\n",
        "\n",
        "            except Exception:\n",
        "                print(\"❌ Invalid input. Please enter valid number and position.\")\n",
        "                continue\n",
        "\n",
        "        print(\"\\nBoard After Move:\\n\", env.board)\n",
        "        win = env.check_win(player)\n",
        "        draw = len(env.available_positions) == 0\n",
        "\n",
        "        if win:\n",
        "            print(f\"🎉 {'Agent' if player == 1 else 'You'} (Player {player}) win!\")\n",
        "            break\n",
        "        if draw:\n",
        "            print(\"🤝 It's a draw!\")\n",
        "            break\n",
        "\n",
        "        player = 2 if player == 1 else 1\n",
        "\n",
        "# To play, uncomment below:\n",
        "play_against_agent(agent)'''"
      ]
    },
    {
      "cell_type": "code",
      "source": [
        "def random_player_action(env, player):\n",
        "    moves = []\n",
        "    for pos in env.available_positions:\n",
        "        for num in env.get_available_numbers(player):\n",
        "            moves.append((pos, num))\n",
        "    return random.choice(moves) if moves else None\n",
        "\n",
        "def evaluate_agent(agent, games=1000):\n",
        "    agent_wins = 0\n",
        "    random_wins = 0\n",
        "    draws = 0\n",
        "\n",
        "    for _ in range(games):\n",
        "        env = TicTacToe()\n",
        "        player = 1\n",
        "        while True:\n",
        "            if player == 1:\n",
        "                action = agent.choose_action(env, player)\n",
        "            else:\n",
        "                action = random_player_action(env, player)\n",
        "\n",
        "            if not action:\n",
        "                draws += 1\n",
        "                break\n",
        "\n",
        "            pos, num = action\n",
        "            env.step(pos, num)\n",
        "\n",
        "            if env.check_win(player):\n",
        "                if player == 1:\n",
        "                    agent_wins += 1\n",
        "                else:\n",
        "                    random_wins += 1\n",
        "                break\n",
        "\n",
        "            if len(env.available_positions) == 0:\n",
        "                draws += 1\n",
        "                break\n",
        "\n",
        "            player = 2 if player == 1 else 1\n",
        "\n",
        "    print(f\"\\n🧠 Agent Evaluation Over {games} Games:\")\n",
        "    print(f\"✅ Agent Wins: {agent_wins}\")\n",
        "    print(f\"❌ Random Player Wins: {random_wins}\")\n",
        "    print(f\"🤝 Draws: {draws}\")\n"
      ],
      "metadata": {
        "id": "BAk33Acz0wnZ"
      },
      "execution_count": 24,
      "outputs": []
    },
    {
      "cell_type": "code",
      "source": [
        "evaluate_agent(agent, games=1000)\n"
      ],
      "metadata": {
        "colab": {
          "base_uri": "https://localhost:8080/"
        },
        "id": "_3BGmDeP08wp",
        "outputId": "70c9448e-27bc-4518-fbf7-e7a26b95a1e6"
      },
      "execution_count": 25,
      "outputs": [
        {
          "output_type": "stream",
          "name": "stdout",
          "text": [
            "\n",
            "🧠 Agent Evaluation Over 1000 Games:\n",
            "✅ Agent Wins: 139\n",
            "❌ Random Player Wins: 0\n",
            "🤝 Draws: 861\n"
          ]
        }
      ]
    }
  ],
  "metadata": {
    "colab": {
      "provenance": []
    },
    "kernelspec": {
      "display_name": "Python 3",
      "name": "python3"
    },
    "language_info": {
      "name": "python"
    }
  },
  "nbformat": 4,
  "nbformat_minor": 0
}